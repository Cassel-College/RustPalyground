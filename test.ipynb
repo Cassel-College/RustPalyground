{
 "cells": [
  {
   "cell_type": "markdown",
   "id": "ae5b633b-10e7-4e67-8c00-4a24f1c98739",
   "metadata": {},
   "source": [
    "# Learning Rust"
   ]
  },
  {
   "cell_type": "code",
   "execution_count": 2,
   "id": "62a3d32a-937b-412c-a57c-974e055c75f5",
   "metadata": {
    "vscode": {
     "languageId": "rust"
    }
   },
   "outputs": [
    {
     "name": "stdout",
     "output_type": "stream",
     "text": [
      "Hello World!\n"
     ]
    }
   ],
   "source": [
    "println!(\"Hello World!\");"
   ]
  },
  {
   "cell_type": "code",
   "execution_count": 3,
   "id": "04165df8-6b84-49de-ac2c-25148c868bf0",
   "metadata": {
    "vscode": {
     "languageId": "rust"
    }
   },
   "outputs": [],
   "source": [
    "fn paly() -> i32 {\n",
    "    println!(\"This function will return int type number!\");\n",
    "    return 998;\n",
    "}"
   ]
  },
  {
   "cell_type": "code",
   "execution_count": 4,
   "id": "093db7c9-944e-40d1-982f-b6f3ef25bf09",
   "metadata": {
    "vscode": {
     "languageId": "rust"
    }
   },
   "outputs": [
    {
     "name": "stdout",
     "output_type": "stream",
     "text": [
      "This function will return int type number!\n"
     ]
    },
    {
     "data": {
      "text/plain": [
       "998"
      ]
     },
     "execution_count": 4,
     "metadata": {},
     "output_type": "execute_result"
    }
   ],
   "source": [
    "paly()"
   ]
  },
  {
   "cell_type": "code",
   "execution_count": null,
   "id": "b4935e04-17e2-4d14-bfe2-4e76c2d9303c",
   "metadata": {
    "vscode": {
     "languageId": "rust"
    }
   },
   "outputs": [],
   "source": []
  }
 ],
 "metadata": {
  "kernelspec": {
   "display_name": "Rust",
   "language": "rust",
   "name": "rust"
  },
  "language_info": {
   "codemirror_mode": "rust",
   "file_extension": ".rs",
   "mimetype": "text/rust",
   "name": "Rust",
   "pygment_lexer": "rust",
   "version": ""
  }
 },
 "nbformat": 4,
 "nbformat_minor": 5
}
