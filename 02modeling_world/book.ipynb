{
 "cells": [
  {
   "cell_type": "markdown",
   "metadata": {},
   "source": [
    "# Learning Rust"
   ]
  },
  {
   "cell_type": "markdown",
   "metadata": {},
   "source": [
    "## Create a module represend book!"
   ]
  },
  {
   "cell_type": "code",
   "execution_count": 2,
   "metadata": {
    "vscode": {
     "languageId": "rust"
    }
   },
   "outputs": [],
   "source": [
    "enum BookLanguage {\n",
    "    Chianese, English\n",
    "}"
   ]
  },
  {
   "cell_type": "code",
   "execution_count": 3,
   "metadata": {
    "vscode": {
     "languageId": "rust"
    }
   },
   "outputs": [],
   "source": [
    "struct Brothday {\n",
    "    year: i128,\n",
    "    month: i8,\n",
    "    day: i8\n",
    "}"
   ]
  },
  {
   "cell_type": "code",
   "execution_count": 4,
   "metadata": {
    "vscode": {
     "languageId": "rust"
    }
   },
   "outputs": [],
   "source": [
    "struct Author {\n",
    "    name_en: String,\n",
    "    name_zh: String,\n",
    "    brothday: Brothday\n",
    "}"
   ]
  },
  {
   "cell_type": "markdown",
   "metadata": {},
   "source": [
    "## Create A Author"
   ]
  },
  {
   "cell_type": "markdown",
   "metadata": {},
   "source": [
    "### Craete book function"
   ]
  },
  {
   "cell_type": "code",
   "execution_count": 5,
   "metadata": {
    "vscode": {
     "languageId": "rust"
    }
   },
   "outputs": [],
   "source": [
    "impl Brothday {\n",
    "    fn get_brothday_as_string(&self) -> String {\n",
    "        let a: String = self.year.to_string();\n",
    "        let b: String = self.month.to_string();\n",
    "        let c: String = self.day.to_string();\n",
    "        let mut brothday_str = a + \"-\" + &b + \"-\" + &c;\n",
    "        return brothday_str;\n",
    "    }\n",
    "\n",
    "    fn show(&self) {\n",
    "        println!(\"{}\", self.get_brothday_as_string())\n",
    "    }\n",
    "}"
   ]
  },
  {
   "cell_type": "markdown",
   "metadata": {},
   "source": [
    "### Creare a new function to show author's information"
   ]
  },
  {
   "cell_type": "code",
   "execution_count": 7,
   "metadata": {
    "vscode": {
     "languageId": "rust"
    }
   },
   "outputs": [],
   "source": [
    "impl Author {\n",
    "    fn show_inforamtion(&self) {\n",
    "        println!(\"_______________________________________________\");\n",
    "        println!(\"|    name        |            value           |\");\n",
    "        println!(\"-----------------------------------------------\");\n",
    "        println!(\"|    {}          |            {}              |\", \"English name\", self.name_en);\n",
    "        println!(\"|    {}          |            {}              |\", \"Chinaese name\", self.name_zh);\n",
    "        println!(\"|    {}          |            {}              |\", \"brothday\", self.brothday.get_brothday_as_string());\n",
    "        println!(\"-----------------------------------------------\");\n",
    "    }\n",
    "}\n",
    "\n"
   ]
  },
  {
   "cell_type": "markdown",
   "metadata": {},
   "source": [
    "## show author info"
   ]
  },
  {
   "cell_type": "code",
   "execution_count": 9,
   "metadata": {
    "vscode": {
     "languageId": "rust"
    }
   },
   "outputs": [
    {
     "name": "stdout",
     "output_type": "stream",
     "text": [
      "2000-10-30\n",
      "2000-10-30\n",
      "_______________________________________________\n",
      "|    name        |            value           |\n",
      "-----------------------------------------------\n",
      "|    English name          |            Tom              |\n",
      "|    Chinaese name          |            汤姆              |\n",
      "|    brothday          |            2000-10-30              |\n",
      "-----------------------------------------------\n"
     ]
    }
   ],
   "source": [
    "let temp_brothday = Brothday {\n",
    "    year: 2000,\n",
    "    month: 10,\n",
    "    day: 30};\n",
    "    \n",
    "println!(\"{}-{}-{}\", temp_brothday.year, temp_brothday.month, temp_brothday.day);\n",
    "temp_brothday.show();\n",
    "\n",
    "let mut author = Author {\n",
    "    name_en: \"Tom\".to_string(),\n",
    "    name_zh: \"汤姆\".to_string(),\n",
    "    brothday: temp_brothday};\n",
    "\n",
    "author.show_inforamtion();"
   ]
  }
 ],
 "metadata": {
  "kernelspec": {
   "display_name": "Rust",
   "language": "rust",
   "name": "rust"
  },
  "language_info": {
   "codemirror_mode": "rust",
   "file_extension": ".rs",
   "mimetype": "text/rust",
   "name": "Rust",
   "pygment_lexer": "rust",
   "version": ""
  },
  "orig_nbformat": 4
 },
 "nbformat": 4,
 "nbformat_minor": 2
}
