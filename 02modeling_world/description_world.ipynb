{
 "cells": [
  {
   "cell_type": "markdown",
   "metadata": {},
   "source": [
    "# Description World"
   ]
  },
  {
   "cell_type": "markdown",
   "metadata": {},
   "source": [
    "## How to description book by rust?"
   ]
  },
  {
   "cell_type": "code",
   "execution_count": 4,
   "metadata": {
    "vscode": {
     "languageId": "rust"
    }
   },
   "outputs": [],
   "source": [
    "struct Book {\n",
    "    book_name: String,\n",
    "    auther: String,\n",
    "    link: String,\n",
    "    language: String\n",
    "}"
   ]
  },
  {
   "cell_type": "markdown",
   "metadata": {},
   "source": [
    "### create a book by Book type."
   ]
  },
  {
   "cell_type": "code",
   "execution_count": 5,
   "metadata": {
    "vscode": {
     "languageId": "rust"
    }
   },
   "outputs": [
    {
     "name": "stdout",
     "output_type": "stream",
     "text": [
      "Rebuild\n"
     ]
    }
   ],
   "source": [
    "let mut rebuild = Book {\n",
    "    book_name: String::from(\"Rebuild\"),\n",
    "    auther: String::from(\"Martin Fowler\"),\n",
    "    link: String::from(\"https://www.bing.com/?rebuild\"),\n",
    "    language: String::from(\"EN\")\n",
    "};\n",
    "\n",
    "println!(\"{}\", rebuild.book_name);"
   ]
  },
  {
   "cell_type": "markdown",
   "metadata": {},
   "source": [
    "### Used Book data type by other function"
   ]
  },
  {
   "cell_type": "code",
   "execution_count": 6,
   "metadata": {
    "vscode": {
     "languageId": "rust"
    }
   },
   "outputs": [],
   "source": [
    "impl Book {\n",
    "    fn show(&self) {\n",
    "        println!(\"book name: {}\", self.book_name);\n",
    "        println!(\"   auther: {}\", self.auther);\n",
    "        println!(\"     link: {}\", self.link);\n",
    "        println!(\" language: {}\", self.language);\n",
    "    }\n",
    "}"
   ]
  },
  {
   "cell_type": "code",
   "execution_count": 7,
   "metadata": {
    "vscode": {
     "languageId": "rust"
    }
   },
   "outputs": [],
   "source": [
    "impl Book {\n",
    "    fn update_author(&mut self, new_author: String) -> bool {\n",
    "        let mut update_success = true;\n",
    "        if new_author.chars().count() > 200 {\n",
    "            update_success = false;\n",
    "        } else {\n",
    "            self.auther = new_author;\n",
    "        }\n",
    "        return update_success;\n",
    "    }\n",
    "}"
   ]
  },
  {
   "cell_type": "markdown",
   "metadata": {},
   "source": [
    "## create function"
   ]
  },
  {
   "cell_type": "code",
   "execution_count": 9,
   "metadata": {
    "vscode": {
     "languageId": "rust"
    }
   },
   "outputs": [],
   "source": [
    "fn build_book(book_name: String, auther: String, link: String, language: String) -> Book {\n",
    "    Book {\n",
    "        book_name: book_name,\n",
    "        auther: auther,\n",
    "        link: link,\n",
    "        language: language\n",
    "    }\n",
    "}"
   ]
  },
  {
   "cell_type": "code",
   "execution_count": 13,
   "metadata": {
    "vscode": {
     "languageId": "rust"
    }
   },
   "outputs": [
    {
     "name": "stdout",
     "output_type": "stream",
     "text": [
      "book name: new book\n",
      "   auther: liupeng\n",
      "     link: https://www.google.com/new_book\n",
      " language: ZH\n"
     ]
    },
    {
     "data": {
      "text/plain": [
       "()"
      ]
     },
     "execution_count": 13,
     "metadata": {},
     "output_type": "execute_result"
    }
   ],
   "source": [
    "let new_book = build_book(\"new book\".to_string(), \"liupeng\".to_string(), \"https://www.google.com/new_book\".to_string(), \"ZH\".to_string());\n",
    "new_book.show()"
   ]
  },
  {
   "cell_type": "code",
   "execution_count": 8,
   "metadata": {
    "vscode": {
     "languageId": "rust"
    }
   },
   "outputs": [
    {
     "name": "stdout",
     "output_type": "stream",
     "text": [
      "book name: Rebuild\n",
      "   auther: Martin Fowler\n",
      "     link: https://www.bing.com/?rebuild\n",
      " language: EN\n",
      "true\n",
      "book name: Rebuild\n",
      "   auther: LP\n",
      "     link: https://www.bing.com/?rebuild\n",
      " language: EN\n"
     ]
    }
   ],
   "source": [
    "rebuild.show();\n",
    "let update_success = rebuild.update_author(String::from(\"LP\"));\n",
    "println!(\"{}\", update_success);\n",
    "rebuild.show();\n"
   ]
  }
 ],
 "metadata": {
  "kernelspec": {
   "display_name": "Rust",
   "language": "rust",
   "name": "rust"
  },
  "language_info": {
   "codemirror_mode": "rust",
   "file_extension": ".rs",
   "mimetype": "text/rust",
   "name": "Rust",
   "pygment_lexer": "rust",
   "version": ""
  },
  "orig_nbformat": 4
 },
 "nbformat": 4,
 "nbformat_minor": 2
}
