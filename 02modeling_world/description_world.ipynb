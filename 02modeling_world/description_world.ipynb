{
 "cells": [
  {
   "cell_type": "markdown",
   "metadata": {},
   "source": [
    "# Description World"
   ]
  },
  {
   "cell_type": "markdown",
   "metadata": {},
   "source": [
    "## How to description book by rust?"
   ]
  },
  {
   "cell_type": "code",
   "execution_count": 59,
   "metadata": {
    "vscode": {
     "languageId": "rust"
    }
   },
   "outputs": [],
   "source": [
    "struct Book {\n",
    "    book_name: String,\n",
    "    auther: String,\n",
    "    link: String,\n",
    "    language: String\n",
    "}"
   ]
  },
  {
   "cell_type": "markdown",
   "metadata": {},
   "source": [
    "### create a book by Book type."
   ]
  },
  {
   "cell_type": "code",
   "execution_count": 60,
   "metadata": {
    "vscode": {
     "languageId": "rust"
    }
   },
   "outputs": [
    {
     "name": "stdout",
     "output_type": "stream",
     "text": [
      "Rebuild\n"
     ]
    }
   ],
   "source": [
    "let mut rebuild = Book {\n",
    "    book_name: String::from(\"Rebuild\"),\n",
    "    auther: String::from(\"Martin Fowler\"),\n",
    "    link: String::from(\"https://www.bing.com/?rebuild\"),\n",
    "    language: String::from(\"EN\")\n",
    "};\n",
    "\n",
    "println!(\"{}\", rebuild.book_name);"
   ]
  },
  {
   "cell_type": "markdown",
   "metadata": {},
   "source": [
    "### Used Book data type by other function"
   ]
  },
  {
   "cell_type": "code",
   "execution_count": 61,
   "metadata": {
    "vscode": {
     "languageId": "rust"
    }
   },
   "outputs": [
    {
     "ename": "Error",
     "evalue": "duplicate definitions with name `show`",
     "output_type": "error",
     "traceback": [
      "    fn show(&self) {",
      "    ^^^^^^^^^^^^^^ other definition for `show`",
      "duplicate definitions with name `show`"
     ]
    }
   ],
   "source": [
    "impl Book {\n",
    "    fn show(&self) {\n",
    "        println!(\"book name: {}\", self.book_name);\n",
    "        println!(\"   auther: {}\", self.auther);\n",
    "        println!(\"     link: {}\", self.link);\n",
    "        println!(\" language: {}\", self.language);\n",
    "    }\n",
    "}"
   ]
  },
  {
   "cell_type": "code",
   "execution_count": null,
   "metadata": {
    "vscode": {
     "languageId": "rust"
    }
   },
   "outputs": [],
   "source": [
    "impl Book {\n",
    "    fn update_author(&mut self, new_author: String) -> bool {\n",
    "        let mut update_success = true;\n",
    "        if new_author.chars().count() > 200 {\n",
    "            update_success = false;\n",
    "        } else {\n",
    "            self.auther = new_author;\n",
    "        }\n",
    "        return update_success;\n",
    "    }\n",
    "}"
   ]
  },
  {
   "cell_type": "code",
   "execution_count": null,
   "metadata": {
    "vscode": {
     "languageId": "rust"
    }
   },
   "outputs": [],
   "source": [
    "rebuild.show();\n",
    "let update_success = rebuild.update_author(String::from(\"LP\"));\n",
    "println!(\"{}\", update_success);\n",
    "rebuild.show();\n"
   ]
  }
 ],
 "metadata": {
  "kernelspec": {
   "display_name": "Rust",
   "language": "rust",
   "name": "rust"
  },
  "language_info": {
   "codemirror_mode": "rust",
   "file_extension": ".rs",
   "mimetype": "text/rust",
   "name": "Rust",
   "pygment_lexer": "rust",
   "version": ""
  },
  "orig_nbformat": 4
 },
 "nbformat": 4,
 "nbformat_minor": 2
}
