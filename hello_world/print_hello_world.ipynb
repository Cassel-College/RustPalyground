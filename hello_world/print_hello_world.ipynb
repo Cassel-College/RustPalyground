{
 "cells": [
  {
   "cell_type": "markdown",
   "metadata": {},
   "source": [
    "# Learning Rust"
   ]
  },
  {
   "cell_type": "markdown",
   "metadata": {},
   "source": [
    "Rust is new language, we will learning it!"
   ]
  },
  {
   "cell_type": "markdown",
   "metadata": {},
   "source": [
    "## Do you know how to print \"Hello world!\"?"
   ]
  },
  {
   "cell_type": "code",
   "execution_count": 4,
   "metadata": {
    "vscode": {
     "languageId": "rust"
    }
   },
   "outputs": [
    {
     "name": "stdout",
     "output_type": "stream",
     "text": [
      "hello World!\n"
     ]
    },
    {
     "data": {
      "text/plain": [
       "()"
      ]
     },
     "execution_count": 4,
     "metadata": {},
     "output_type": "execute_result"
    }
   ],
   "source": [
    "println!(\"hello World!\")"
   ]
  },
  {
   "cell_type": "code",
   "execution_count": 8,
   "metadata": {
    "vscode": {
     "languageId": "rust"
    }
   },
   "outputs": [
    {
     "name": "stdout",
     "output_type": "stream",
     "text": [
      "Hello World!\n"
     ]
    },
    {
     "data": {
      "text/plain": [
       "()"
      ]
     },
     "execution_count": 8,
     "metadata": {},
     "output_type": "execute_result"
    }
   ],
   "source": [
    "let info = \"Hello World!\";\n",
    "println!(\"{}\", info)"
   ]
  },
  {
   "cell_type": "code",
   "execution_count": 9,
   "metadata": {
    "vscode": {
     "languageId": "rust"
    }
   },
   "outputs": [
    {
     "name": "stdout",
     "output_type": "stream",
     "text": [
      "Hello World!\n"
     ]
    },
    {
     "data": {
      "text/plain": [
       "()"
      ]
     },
     "execution_count": 9,
     "metadata": {},
     "output_type": "execute_result"
    }
   ],
   "source": [
    "fn print_hello_world() {\n",
    "    println!(\"Hello World!\")\n",
    "}\n",
    "\n",
    "print_hello_world()"
   ]
  },
  {
   "cell_type": "code",
   "execution_count": 38,
   "metadata": {
    "vscode": {
     "languageId": "rust"
    }
   },
   "outputs": [
    {
     "data": {
      "text/plain": [
       "()"
      ]
     },
     "execution_count": 38,
     "metadata": {},
     "output_type": "execute_result"
    },
    {
     "name": "stdout",
     "output_type": "stream",
     "text": [
      "Hello World!\n"
     ]
    }
   ],
   "source": [
    "fn get_hello_world() -> String {\n",
    "    let info : String = \"Hello World!\".to_string();\n",
    "    return info\n",
    "}\n",
    "println!(\"{}\", get_hello_world())"
   ]
  },
  {
   "cell_type": "code",
   "execution_count": 37,
   "metadata": {
    "vscode": {
     "languageId": "rust"
    }
   },
   "outputs": [
    {
     "name": "stdout",
     "output_type": "stream",
     "text": [
      "Hello World!\n"
     ]
    }
   ],
   "source": [
    "let info = get_hello_world();\n",
    "println!(\"{}\", info);"
   ]
  },
  {
   "cell_type": "code",
   "execution_count": 39,
   "metadata": {
    "vscode": {
     "languageId": "rust"
    }
   },
   "outputs": [
    {
     "name": "stdout",
     "output_type": "stream",
     "text": [
      "abc\n",
      "a\n",
      "0\n",
      "1\n",
      "false\n",
      "1\n",
      "true\n",
      "2\n",
      "size of i8 1\n",
      "size of char 4\n",
      "size of () 0\n"
     ]
    }
   ],
   "source": [
    "let data_type_001 = (\"abc\", 'a', 0);\n",
    "\n",
    "println!(\"{}\", data_type_001.0);\n",
    "println!(\"{}\", data_type_001.1);\n",
    "println!(\"{}\", data_type_001.2);\n",
    "\n",
    "let data_type_002 = (1i32, false);\n",
    "println!(\"{}\", data_type_002.0);\n",
    "println!(\"{}\", data_type_002.1);\n",
    "\n",
    "let data_type_003 = (1i32, (true, 2i128));\n",
    "\n",
    "println!(\"{}\", data_type_003.0);\n",
    "println!(\"{}\", data_type_003.1.0);\n",
    "println!(\"{}\", data_type_003.1.1);\n",
    "\n",
    "println!(\"size of i8 {}\", std::mem::size_of::<i8>());\n",
    "println!(\"size of char {}\", std::mem::size_of::<char>());\n",
    "println!(\"size of () {}\", std::mem::size_of::<()>());"
   ]
  }
 ],
 "metadata": {
  "kernelspec": {
   "display_name": "Rust",
   "language": "rust",
   "name": "rust"
  },
  "language_info": {
   "codemirror_mode": "rust",
   "file_extension": ".rs",
   "mimetype": "text/rust",
   "name": "Rust",
   "pygment_lexer": "rust",
   "version": ""
  },
  "orig_nbformat": 4
 },
 "nbformat": 4,
 "nbformat_minor": 2
}
